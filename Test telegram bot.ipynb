{
 "cells": [
  {
   "cell_type": "code",
   "execution_count": 1,
   "metadata": {
    "collapsed": true
   },
   "outputs": [],
   "source": [
    "# pip install python-telegram-bot\n",
    "# pip install pydub\n",
    "# sudo apt-get install ffmpeg\n",
    "# pip wit"
   ]
  },
  {
   "cell_type": "code",
   "execution_count": 2,
   "metadata": {
    "collapsed": true
   },
   "outputs": [],
   "source": [
    "import telegram\n",
    "from wit import Wit\n",
    "\n",
    "import private\n",
    "from pydub import AudioSegment\n",
    "import time"
   ]
  },
  {
   "cell_type": "markdown",
   "metadata": {},
   "source": [
    "# Telegram bot test"
   ]
  },
  {
   "cell_type": "markdown",
   "metadata": {},
   "source": [
    "## Connection"
   ]
  },
  {
   "cell_type": "code",
   "execution_count": 3,
   "metadata": {
    "collapsed": true
   },
   "outputs": [],
   "source": [
    "bot = telegram.Bot(private.TELEGRAM_TOKEN)"
   ]
  },
  {
   "cell_type": "code",
   "execution_count": 4,
   "metadata": {
    "collapsed": false
   },
   "outputs": [
    {
     "name": "stdout",
     "output_type": "stream",
     "text": [
      "{'username': 'PhysicsHelperBot', 'last_name': '', 'id': 283756257, 'type': '', 'first_name': 'Физика-помощник'}\n"
     ]
    }
   ],
   "source": [
    "print(bot.get_me())"
   ]
  },
  {
   "cell_type": "code",
   "execution_count": 5,
   "metadata": {
    "collapsed": false
   },
   "outputs": [],
   "source": [
    "updates = bot.get_updates()"
   ]
  },
  {
   "cell_type": "code",
   "execution_count": 6,
   "metadata": {
    "collapsed": false
   },
   "outputs": [
    {
     "data": {
      "text/plain": [
       "['', '', 'Привет', '', '']"
      ]
     },
     "execution_count": 6,
     "metadata": {},
     "output_type": "execute_result"
    }
   ],
   "source": [
    "[u.message.text for u in updates][-5:]"
   ]
  },
  {
   "cell_type": "code",
   "execution_count": 7,
   "metadata": {
    "collapsed": true
   },
   "outputs": [],
   "source": [
    "u = updates[-1]"
   ]
  },
  {
   "cell_type": "markdown",
   "metadata": {},
   "source": [
    "## Downloading voice"
   ]
  },
  {
   "cell_type": "code",
   "execution_count": 8,
   "metadata": {
    "collapsed": false
   },
   "outputs": [],
   "source": [
    "file_id = u.message.voice.file_id\n",
    "new_file = bot.get_file(file_id)\n",
    "new_file.download('audio/test.oga')"
   ]
  },
  {
   "cell_type": "markdown",
   "metadata": {
    "collapsed": true
   },
   "source": [
    "## Convertation to mp3"
   ]
  },
  {
   "cell_type": "code",
   "execution_count": 9,
   "metadata": {
    "collapsed": false
   },
   "outputs": [
    {
     "data": {
      "text/plain": [
       "<_io.BufferedRandom name='audio/test.mp3'>"
      ]
     },
     "execution_count": 9,
     "metadata": {},
     "output_type": "execute_result"
    }
   ],
   "source": [
    "song = AudioSegment.from_ogg('audio/test.oga')\n",
    "song.export('audio/test.mp3', format=\"mp3\")"
   ]
  },
  {
   "cell_type": "markdown",
   "metadata": {
    "collapsed": true
   },
   "source": [
    "# Wit api"
   ]
  },
  {
   "cell_type": "markdown",
   "metadata": {},
   "source": [
    "## Connection"
   ]
  },
  {
   "cell_type": "code",
   "execution_count": 10,
   "metadata": {
    "collapsed": true
   },
   "outputs": [],
   "source": [
    "client = Wit(private.WIT_TOKEN)"
   ]
  },
  {
   "cell_type": "markdown",
   "metadata": {},
   "source": [
    "## Recognition"
   ]
  },
  {
   "cell_type": "code",
   "execution_count": 11,
   "metadata": {
    "collapsed": false
   },
   "outputs": [
    {
     "name": "stdout",
     "output_type": "stream",
     "text": [
      "Yay, got Wit.ai response: {'_text': '1 2', 'entities': {}, 'msg_id': 'becb40ef-a934-4613-963b-9bee8c679144'}\n"
     ]
    }
   ],
   "source": [
    "resp = None\n",
    "with open('audio/test.mp3', 'rb') as f:\n",
    "    resp = client.speech(f, None, {'Content-Type': 'audio/mpeg3'})\n",
    "print('Yay, got Wit.ai response: ' + str(resp))"
   ]
  },
  {
   "cell_type": "markdown",
   "metadata": {},
   "source": [
    "# Main loop"
   ]
  },
  {
   "cell_type": "code",
   "execution_count": null,
   "metadata": {
    "collapsed": false
   },
   "outputs": [
    {
     "name": "stdout",
     "output_type": "stream",
     "text": [
      "Response: при вед\n"
     ]
    }
   ],
   "source": [
    "last_id = u.message.message_id\n",
    "while True:\n",
    "    time.sleep(1)\n",
    "    try:\n",
    "        updates = bot.get_updates()\n",
    "        u = updates[-1]\n",
    "        if u.message.message_id != last_id:\n",
    "            if u.message.voice:\n",
    "                file_id = u.message.voice.file_id\n",
    "                new_file = bot.get_file(file_id)\n",
    "                new_file.download('audio/test.oga')\n",
    "\n",
    "                song = AudioSegment.from_ogg('audio/test.oga')\n",
    "                song.export('audio/test.mp3', format='mp3')\n",
    "\n",
    "                resp = None\n",
    "                with open('audio/test.mp3', 'rb') as f:\n",
    "                    resp = client.speech(f, None, {'Content-Type': 'audio/mpeg3'})\n",
    "                responce = str(resp['_text'])\n",
    "            else:\n",
    "                responce = str(u.message.text)\n",
    "            \n",
    "            print('Response: ' + responce)\n",
    "            bot.send_message(u.message.chat_id, responce)\n",
    "\n",
    "        last_id = u.message.message_id\n",
    "    except Exception as ex:\n",
    "        print(ex)"
   ]
  },
  {
   "cell_type": "code",
   "execution_count": null,
   "metadata": {
    "collapsed": true
   },
   "outputs": [],
   "source": []
  }
 ],
 "metadata": {
  "anaconda-cloud": {},
  "kernelspec": {
   "display_name": "Python [conda root]",
   "language": "python",
   "name": "conda-root-py"
  },
  "language_info": {
   "codemirror_mode": {
    "name": "ipython",
    "version": 3
   },
   "file_extension": ".py",
   "mimetype": "text/x-python",
   "name": "python",
   "nbconvert_exporter": "python",
   "pygments_lexer": "ipython3",
   "version": "3.5.2"
  }
 },
 "nbformat": 4,
 "nbformat_minor": 2
}
